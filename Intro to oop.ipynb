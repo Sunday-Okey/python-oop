{
 "cells": [
  {
   "cell_type": "markdown",
   "id": "5f14ce4e-3630-41d9-9d85-0cb75b988215",
   "metadata": {},
   "source": [
    "## Object Orriented Programming"
   ]
  },
  {
   "cell_type": "code",
   "execution_count": 6,
   "id": "5a5647d7-5ea0-4d34-a1aa-f8f16770ee2c",
   "metadata": {},
   "outputs": [],
   "source": [
    "class Dog:\n",
    "    pass"
   ]
  },
  {
   "cell_type": "code",
   "execution_count": 7,
   "id": "369ecfb2-49f0-4d72-9585-616156915ab6",
   "metadata": {},
   "outputs": [
    {
     "data": {
      "text/plain": [
       "<__main__.Dog at 0x2568ffd4500>"
      ]
     },
     "execution_count": 7,
     "metadata": {},
     "output_type": "execute_result"
    }
   ],
   "source": [
    "Dog()"
   ]
  },
  {
   "cell_type": "code",
   "execution_count": 8,
   "id": "28806ed3-dbaa-47bc-b75f-d734d4e102c4",
   "metadata": {},
   "outputs": [
    {
     "data": {
      "text/plain": [
       "<__main__.Dog at 0x256915ad400>"
      ]
     },
     "execution_count": 8,
     "metadata": {},
     "output_type": "execute_result"
    }
   ],
   "source": [
    "Dog()"
   ]
  },
  {
   "cell_type": "code",
   "execution_count": 9,
   "id": "44f01bd7-f3ca-47f1-bf89-e7ec8a103212",
   "metadata": {},
   "outputs": [
    {
     "data": {
      "text/plain": [
       "False"
      ]
     },
     "execution_count": 9,
     "metadata": {},
     "output_type": "execute_result"
    }
   ],
   "source": [
    "a = Dog()\n",
    "b = Dog()\n",
    "a == b # False"
   ]
  },
  {
   "cell_type": "code",
   "execution_count": 10,
   "id": "3f26bc76-335a-4da2-acb5-bfc1af7a8d17",
   "metadata": {},
   "outputs": [
    {
     "data": {
      "text/plain": [
       "__main__.Dog"
      ]
     },
     "execution_count": 10,
     "metadata": {},
     "output_type": "execute_result"
    }
   ],
   "source": [
    "type(a)"
   ]
  },
  {
   "cell_type": "code",
   "execution_count": 36,
   "id": "9bf67d29-9d86-4be7-be54-833f018fc145",
   "metadata": {},
   "outputs": [],
   "source": [
    "# Creating a class\n",
    "class Dog:\n",
    "    # class attributes\n",
    "    species = 'mammal'\n",
    "    \n",
    "    def __init__(self, name, age):\n",
    "        self.name = name # assign name to new object's name\n",
    "        self.age = age\n",
    "\n",
    "    def description(self):\n",
    "        return f\"{self.name} is {self.age} years old\"\n",
    "\n",
    "    def speak(self, sound):\n",
    "        return f\"{self.name} says {sound}\"\n",
    "    def birthday(self):\n",
    "        self.age += 1"
   ]
  },
  {
   "cell_type": "code",
   "execution_count": 19,
   "id": "fc557373-bf1f-46d1-b3f6-e8d9f2355c65",
   "metadata": {},
   "outputs": [],
   "source": [
    "philo = Dog('Philo', 5)\n",
    "mikey = Dog('Mikey', 6)"
   ]
  },
  {
   "cell_type": "code",
   "execution_count": 20,
   "id": "b0baf46d-fa5f-4c0f-9a6e-cc776c8d47c0",
   "metadata": {},
   "outputs": [],
   "source": [
    "mikey.age = 7\n",
    "philo.species = 'mouse'"
   ]
  },
  {
   "cell_type": "code",
   "execution_count": 21,
   "id": "f3a337e8-6f65-4d4a-b4c7-82c3c3b87dce",
   "metadata": {},
   "outputs": [
    {
     "data": {
      "text/plain": [
       "{'name': 'Philo', 'age': 5, 'species': 'mouse'}"
      ]
     },
     "execution_count": 21,
     "metadata": {},
     "output_type": "execute_result"
    }
   ],
   "source": [
    "philo.__dict__"
   ]
  },
  {
   "cell_type": "code",
   "execution_count": 22,
   "id": "fc3308aa-2bd1-403a-a757-9b04f93a078b",
   "metadata": {},
   "outputs": [
    {
     "data": {
      "text/plain": [
       "mappingproxy({'__module__': '__main__',\n",
       "              'species': 'mammal',\n",
       "              '__init__': <function __main__.Dog.__init__(self, name, age)>,\n",
       "              '__dict__': <attribute '__dict__' of 'Dog' objects>,\n",
       "              '__weakref__': <attribute '__weakref__' of 'Dog' objects>,\n",
       "              '__doc__': None,\n",
       "              '__annotations__': {}})"
      ]
     },
     "execution_count": 22,
     "metadata": {},
     "output_type": "execute_result"
    }
   ],
   "source": [
    "Dog.__dict__"
   ]
  },
  {
   "cell_type": "code",
   "execution_count": 23,
   "id": "3c2f6ca9-8eeb-4a8a-8f5d-5c94fbd213ac",
   "metadata": {},
   "outputs": [
    {
     "data": {
      "text/plain": [
       "{'name': 'Mikey', 'age': 7}"
      ]
     },
     "execution_count": 23,
     "metadata": {},
     "output_type": "execute_result"
    }
   ],
   "source": [
    "mikey.__dict__"
   ]
  },
  {
   "cell_type": "code",
   "execution_count": 24,
   "id": "b2ed28fe-2b48-462c-a077-bf23f2be959a",
   "metadata": {},
   "outputs": [
    {
     "name": "stdout",
     "output_type": "stream",
     "text": [
      "Philo 5 Mikey 7\n"
     ]
    }
   ],
   "source": [
    "print(f'{philo.name} {philo.age} {mikey.name} {mikey.age}')\n"
   ]
  },
  {
   "cell_type": "code",
   "execution_count": 25,
   "id": "20351039-0a04-4035-a482-5ac99467ee0c",
   "metadata": {},
   "outputs": [],
   "source": [
    "if philo.species == 'mammal':\n",
    "    print(f\"{philo.name} is a {philo.species}\")"
   ]
  },
  {
   "cell_type": "code",
   "execution_count": 37,
   "id": "30a3bd43-f243-4b0f-8aa9-9bcdff82e7fd",
   "metadata": {},
   "outputs": [
    {
     "data": {
      "text/plain": [
       "'Mikey is 6 years old'"
      ]
     },
     "execution_count": 37,
     "metadata": {},
     "output_type": "execute_result"
    }
   ],
   "source": [
    "mikey = Dog(\"Mikey\", 6)\n",
    "\n",
    "mikey.description()"
   ]
  },
  {
   "cell_type": "code",
   "execution_count": 38,
   "id": "ad5e0350-db35-4387-91f2-aedae04b79fe",
   "metadata": {},
   "outputs": [
    {
     "data": {
      "text/plain": [
       "'Mikey says Gruff gruff!'"
      ]
     },
     "execution_count": 38,
     "metadata": {},
     "output_type": "execute_result"
    }
   ],
   "source": [
    "mikey.speak('Gruff gruff!')"
   ]
  },
  {
   "cell_type": "code",
   "execution_count": 41,
   "id": "8492260a-3a55-45fc-8bb1-7802556c16ff",
   "metadata": {},
   "outputs": [],
   "source": [
    "mikey.birthday()"
   ]
  },
  {
   "cell_type": "code",
   "execution_count": 42,
   "id": "355a8eaf-44f2-4a28-a633-4d8658cadf26",
   "metadata": {},
   "outputs": [
    {
     "data": {
      "text/plain": [
       "'Mikey is 8 years old'"
      ]
     },
     "execution_count": 42,
     "metadata": {},
     "output_type": "execute_result"
    }
   ],
   "source": [
    "mikey.description()"
   ]
  },
  {
   "cell_type": "code",
   "execution_count": null,
   "id": "cb3637cb-b558-408e-8e6e-79a2d1eda68a",
   "metadata": {},
   "outputs": [],
   "source": [
    "class Person:\n",
    "    "
   ]
  }
 ],
 "metadata": {
  "kernelspec": {
   "display_name": "Python 3 (ipykernel)",
   "language": "python",
   "name": "python3"
  },
  "language_info": {
   "codemirror_mode": {
    "name": "ipython",
    "version": 3
   },
   "file_extension": ".py",
   "mimetype": "text/x-python",
   "name": "python",
   "nbconvert_exporter": "python",
   "pygments_lexer": "ipython3",
   "version": "3.12.4"
  }
 },
 "nbformat": 4,
 "nbformat_minor": 5
}
